{
 "cells": [
  {
   "cell_type": "markdown",
   "id": "7c22d057",
   "metadata": {},
   "source": [
    "# Name: Chibueze Christian Nnaji\n",
    "# Cohort: CML12"
   ]
  },
  {
   "cell_type": "markdown",
   "id": "7467a6ae",
   "metadata": {},
   "source": [
    "# Data Exploratory Analysis (EDA) and Classification Modeling Project"
   ]
  },
  {
   "cell_type": "markdown",
   "id": "5786b26a",
   "metadata": {},
   "source": [
    "## 1. Load and read the data"
   ]
  },
  {
   "cell_type": "markdown",
   "id": "3467ffff",
   "metadata": {},
   "source": [
    "We first load the data and read the first 5 rows of the data to get an insight on the type of data we are working with"
   ]
  },
  {
   "cell_type": "markdown",
   "id": "d8ea058a",
   "metadata": {},
   "source": [
    "Before we proceed, we need to import all the necessary packages we need"
   ]
  },
  {
   "cell_type": "code",
   "execution_count": 1,
   "id": "11da7dad",
   "metadata": {},
   "outputs": [],
   "source": [
    "import pandas as pd\n",
    "import numpy as np\n",
    "import matplotlib.pyplot as plt\n",
    "%matplotlib inline"
   ]
  },
  {
   "cell_type": "markdown",
   "id": "6eaf98fd",
   "metadata": {},
   "source": [
    "We import and load the data"
   ]
  },
  {
   "cell_type": "code",
   "execution_count": 18,
   "id": "c65ee2b9",
   "metadata": {},
   "outputs": [],
   "source": [
    "filename = \"phpB0xrNj.csv\"\n",
    "filepath = \"C:/Users/chibueze.nnaji/Documents/CampusSquare/Projects/\"\n",
    "fullfilepath = filepath + filename\n",
    "data = pd.read_csv(fullfilepath)"
   ]
  },
  {
   "cell_type": "code",
   "execution_count": 19,
   "id": "1c03dacb",
   "metadata": {
    "scrolled": true
   },
   "outputs": [
    {
     "data": {
      "text/html": [
       "<div>\n",
       "<style scoped>\n",
       "    .dataframe tbody tr th:only-of-type {\n",
       "        vertical-align: middle;\n",
       "    }\n",
       "\n",
       "    .dataframe tbody tr th {\n",
       "        vertical-align: top;\n",
       "    }\n",
       "\n",
       "    .dataframe thead th {\n",
       "        text-align: right;\n",
       "    }\n",
       "</style>\n",
       "<table border=\"1\" class=\"dataframe\">\n",
       "  <thead>\n",
       "    <tr style=\"text-align: right;\">\n",
       "      <th></th>\n",
       "      <th>f1</th>\n",
       "      <th>f2</th>\n",
       "      <th>f3</th>\n",
       "      <th>f4</th>\n",
       "      <th>f5</th>\n",
       "      <th>f6</th>\n",
       "      <th>f7</th>\n",
       "      <th>f8</th>\n",
       "      <th>f9</th>\n",
       "      <th>f10</th>\n",
       "      <th>...</th>\n",
       "      <th>f609</th>\n",
       "      <th>f610</th>\n",
       "      <th>f611</th>\n",
       "      <th>f612</th>\n",
       "      <th>f613</th>\n",
       "      <th>f614</th>\n",
       "      <th>f615</th>\n",
       "      <th>f616</th>\n",
       "      <th>f617</th>\n",
       "      <th>class</th>\n",
       "    </tr>\n",
       "  </thead>\n",
       "  <tbody>\n",
       "    <tr>\n",
       "      <th>0</th>\n",
       "      <td>-0.4394</td>\n",
       "      <td>-0.0930</td>\n",
       "      <td>0.1718</td>\n",
       "      <td>0.4620</td>\n",
       "      <td>0.6226</td>\n",
       "      <td>0.4704</td>\n",
       "      <td>0.3578</td>\n",
       "      <td>0.0478</td>\n",
       "      <td>-0.1184</td>\n",
       "      <td>-0.2310</td>\n",
       "      <td>...</td>\n",
       "      <td>0.4102</td>\n",
       "      <td>0.2052</td>\n",
       "      <td>0.3846</td>\n",
       "      <td>0.3590</td>\n",
       "      <td>0.5898</td>\n",
       "      <td>0.3334</td>\n",
       "      <td>0.6410</td>\n",
       "      <td>0.5898</td>\n",
       "      <td>-0.4872</td>\n",
       "      <td>'1'</td>\n",
       "    </tr>\n",
       "    <tr>\n",
       "      <th>1</th>\n",
       "      <td>-0.4348</td>\n",
       "      <td>-0.1198</td>\n",
       "      <td>0.2474</td>\n",
       "      <td>0.4036</td>\n",
       "      <td>0.5026</td>\n",
       "      <td>0.6328</td>\n",
       "      <td>0.4948</td>\n",
       "      <td>0.0338</td>\n",
       "      <td>-0.0520</td>\n",
       "      <td>-0.1302</td>\n",
       "      <td>...</td>\n",
       "      <td>0.0000</td>\n",
       "      <td>0.2954</td>\n",
       "      <td>0.2046</td>\n",
       "      <td>0.4772</td>\n",
       "      <td>0.0454</td>\n",
       "      <td>0.2046</td>\n",
       "      <td>0.4318</td>\n",
       "      <td>0.4546</td>\n",
       "      <td>-0.0910</td>\n",
       "      <td>'1'</td>\n",
       "    </tr>\n",
       "    <tr>\n",
       "      <th>2</th>\n",
       "      <td>-0.2330</td>\n",
       "      <td>0.2124</td>\n",
       "      <td>0.5014</td>\n",
       "      <td>0.5222</td>\n",
       "      <td>-0.3422</td>\n",
       "      <td>-0.5840</td>\n",
       "      <td>-0.7168</td>\n",
       "      <td>-0.6342</td>\n",
       "      <td>-0.8614</td>\n",
       "      <td>-0.8318</td>\n",
       "      <td>...</td>\n",
       "      <td>-0.1112</td>\n",
       "      <td>-0.0476</td>\n",
       "      <td>-0.1746</td>\n",
       "      <td>0.0318</td>\n",
       "      <td>-0.0476</td>\n",
       "      <td>0.1112</td>\n",
       "      <td>0.2540</td>\n",
       "      <td>0.1588</td>\n",
       "      <td>-0.4762</td>\n",
       "      <td>'2'</td>\n",
       "    </tr>\n",
       "    <tr>\n",
       "      <th>3</th>\n",
       "      <td>-0.3808</td>\n",
       "      <td>-0.0096</td>\n",
       "      <td>0.2602</td>\n",
       "      <td>0.2554</td>\n",
       "      <td>-0.4290</td>\n",
       "      <td>-0.6746</td>\n",
       "      <td>-0.6868</td>\n",
       "      <td>-0.6650</td>\n",
       "      <td>-0.8410</td>\n",
       "      <td>-0.9614</td>\n",
       "      <td>...</td>\n",
       "      <td>-0.0504</td>\n",
       "      <td>-0.0360</td>\n",
       "      <td>-0.1224</td>\n",
       "      <td>0.1366</td>\n",
       "      <td>0.2950</td>\n",
       "      <td>0.0792</td>\n",
       "      <td>-0.0072</td>\n",
       "      <td>0.0936</td>\n",
       "      <td>-0.1510</td>\n",
       "      <td>'2'</td>\n",
       "    </tr>\n",
       "    <tr>\n",
       "      <th>4</th>\n",
       "      <td>-0.3412</td>\n",
       "      <td>0.0946</td>\n",
       "      <td>0.6082</td>\n",
       "      <td>0.6216</td>\n",
       "      <td>-0.1622</td>\n",
       "      <td>-0.3784</td>\n",
       "      <td>-0.4324</td>\n",
       "      <td>-0.4358</td>\n",
       "      <td>-0.4966</td>\n",
       "      <td>-0.5406</td>\n",
       "      <td>...</td>\n",
       "      <td>0.1562</td>\n",
       "      <td>0.3124</td>\n",
       "      <td>0.2500</td>\n",
       "      <td>-0.0938</td>\n",
       "      <td>0.1562</td>\n",
       "      <td>0.3124</td>\n",
       "      <td>0.3124</td>\n",
       "      <td>0.2188</td>\n",
       "      <td>-0.2500</td>\n",
       "      <td>'3'</td>\n",
       "    </tr>\n",
       "  </tbody>\n",
       "</table>\n",
       "<p>5 rows × 618 columns</p>\n",
       "</div>"
      ],
      "text/plain": [
       "       f1      f2      f3      f4      f5      f6      f7      f8      f9  \\\n",
       "0 -0.4394 -0.0930  0.1718  0.4620  0.6226  0.4704  0.3578  0.0478 -0.1184   \n",
       "1 -0.4348 -0.1198  0.2474  0.4036  0.5026  0.6328  0.4948  0.0338 -0.0520   \n",
       "2 -0.2330  0.2124  0.5014  0.5222 -0.3422 -0.5840 -0.7168 -0.6342 -0.8614   \n",
       "3 -0.3808 -0.0096  0.2602  0.2554 -0.4290 -0.6746 -0.6868 -0.6650 -0.8410   \n",
       "4 -0.3412  0.0946  0.6082  0.6216 -0.1622 -0.3784 -0.4324 -0.4358 -0.4966   \n",
       "\n",
       "      f10  ...    f609    f610    f611    f612    f613    f614    f615  \\\n",
       "0 -0.2310  ...  0.4102  0.2052  0.3846  0.3590  0.5898  0.3334  0.6410   \n",
       "1 -0.1302  ...  0.0000  0.2954  0.2046  0.4772  0.0454  0.2046  0.4318   \n",
       "2 -0.8318  ... -0.1112 -0.0476 -0.1746  0.0318 -0.0476  0.1112  0.2540   \n",
       "3 -0.9614  ... -0.0504 -0.0360 -0.1224  0.1366  0.2950  0.0792 -0.0072   \n",
       "4 -0.5406  ...  0.1562  0.3124  0.2500 -0.0938  0.1562  0.3124  0.3124   \n",
       "\n",
       "     f616    f617  class  \n",
       "0  0.5898 -0.4872    '1'  \n",
       "1  0.4546 -0.0910    '1'  \n",
       "2  0.1588 -0.4762    '2'  \n",
       "3  0.0936 -0.1510    '2'  \n",
       "4  0.2188 -0.2500    '3'  \n",
       "\n",
       "[5 rows x 618 columns]"
      ]
     },
     "execution_count": 19,
     "metadata": {},
     "output_type": "execute_result"
    }
   ],
   "source": [
    "#Viewing the first 5 rows of the data\n",
    "data.head()"
   ]
  },
  {
   "cell_type": "code",
   "execution_count": 20,
   "id": "08724e5b",
   "metadata": {},
   "outputs": [
    {
     "data": {
      "text/html": [
       "<div>\n",
       "<style scoped>\n",
       "    .dataframe tbody tr th:only-of-type {\n",
       "        vertical-align: middle;\n",
       "    }\n",
       "\n",
       "    .dataframe tbody tr th {\n",
       "        vertical-align: top;\n",
       "    }\n",
       "\n",
       "    .dataframe thead th {\n",
       "        text-align: right;\n",
       "    }\n",
       "</style>\n",
       "<table border=\"1\" class=\"dataframe\">\n",
       "  <thead>\n",
       "    <tr style=\"text-align: right;\">\n",
       "      <th></th>\n",
       "      <th>f1</th>\n",
       "      <th>f2</th>\n",
       "      <th>f3</th>\n",
       "      <th>f4</th>\n",
       "      <th>f5</th>\n",
       "      <th>f6</th>\n",
       "      <th>f7</th>\n",
       "      <th>f8</th>\n",
       "      <th>f9</th>\n",
       "      <th>f10</th>\n",
       "      <th>...</th>\n",
       "      <th>f608</th>\n",
       "      <th>f609</th>\n",
       "      <th>f610</th>\n",
       "      <th>f611</th>\n",
       "      <th>f612</th>\n",
       "      <th>f613</th>\n",
       "      <th>f614</th>\n",
       "      <th>f615</th>\n",
       "      <th>f616</th>\n",
       "      <th>f617</th>\n",
       "    </tr>\n",
       "  </thead>\n",
       "  <tbody>\n",
       "    <tr>\n",
       "      <th>count</th>\n",
       "      <td>7797.000000</td>\n",
       "      <td>7797.000000</td>\n",
       "      <td>7797.000000</td>\n",
       "      <td>7797.000000</td>\n",
       "      <td>7797.000000</td>\n",
       "      <td>7797.000000</td>\n",
       "      <td>7797.000000</td>\n",
       "      <td>7797.000000</td>\n",
       "      <td>7797.000000</td>\n",
       "      <td>7797.000000</td>\n",
       "      <td>...</td>\n",
       "      <td>7797.000000</td>\n",
       "      <td>7797.000000</td>\n",
       "      <td>7797.000000</td>\n",
       "      <td>7797.000000</td>\n",
       "      <td>7797.000000</td>\n",
       "      <td>7797.000000</td>\n",
       "      <td>7797.000000</td>\n",
       "      <td>7797.000000</td>\n",
       "      <td>7797.000000</td>\n",
       "      <td>7797.000000</td>\n",
       "    </tr>\n",
       "    <tr>\n",
       "      <th>mean</th>\n",
       "      <td>-0.385396</td>\n",
       "      <td>0.141103</td>\n",
       "      <td>0.347384</td>\n",
       "      <td>0.450659</td>\n",
       "      <td>0.324283</td>\n",
       "      <td>0.163589</td>\n",
       "      <td>0.023852</td>\n",
       "      <td>-0.081577</td>\n",
       "      <td>-0.149191</td>\n",
       "      <td>-0.191763</td>\n",
       "      <td>...</td>\n",
       "      <td>0.370768</td>\n",
       "      <td>0.341730</td>\n",
       "      <td>0.311678</td>\n",
       "      <td>0.318904</td>\n",
       "      <td>0.334451</td>\n",
       "      <td>0.299238</td>\n",
       "      <td>0.224122</td>\n",
       "      <td>0.186668</td>\n",
       "      <td>0.081370</td>\n",
       "      <td>-0.281416</td>\n",
       "    </tr>\n",
       "    <tr>\n",
       "      <th>std</th>\n",
       "      <td>0.236721</td>\n",
       "      <td>0.320090</td>\n",
       "      <td>0.326658</td>\n",
       "      <td>0.308301</td>\n",
       "      <td>0.461491</td>\n",
       "      <td>0.569970</td>\n",
       "      <td>0.559704</td>\n",
       "      <td>0.535142</td>\n",
       "      <td>0.528714</td>\n",
       "      <td>0.515343</td>\n",
       "      <td>...</td>\n",
       "      <td>0.335582</td>\n",
       "      <td>0.330835</td>\n",
       "      <td>0.328813</td>\n",
       "      <td>0.333747</td>\n",
       "      <td>0.334954</td>\n",
       "      <td>0.334282</td>\n",
       "      <td>0.336135</td>\n",
       "      <td>0.337780</td>\n",
       "      <td>0.332859</td>\n",
       "      <td>0.354418</td>\n",
       "    </tr>\n",
       "    <tr>\n",
       "      <th>min</th>\n",
       "      <td>-1.000000</td>\n",
       "      <td>-0.892600</td>\n",
       "      <td>-0.975200</td>\n",
       "      <td>-0.968000</td>\n",
       "      <td>-0.996600</td>\n",
       "      <td>-1.000000</td>\n",
       "      <td>-1.000000</td>\n",
       "      <td>-1.000000</td>\n",
       "      <td>-1.000000</td>\n",
       "      <td>-1.000000</td>\n",
       "      <td>...</td>\n",
       "      <td>-0.609400</td>\n",
       "      <td>-0.803400</td>\n",
       "      <td>-0.775200</td>\n",
       "      <td>-0.830200</td>\n",
       "      <td>-0.711800</td>\n",
       "      <td>-0.770800</td>\n",
       "      <td>-0.810600</td>\n",
       "      <td>-0.780200</td>\n",
       "      <td>-0.802800</td>\n",
       "      <td>-0.962600</td>\n",
       "    </tr>\n",
       "    <tr>\n",
       "      <th>25%</th>\n",
       "      <td>-0.546800</td>\n",
       "      <td>-0.099400</td>\n",
       "      <td>0.105400</td>\n",
       "      <td>0.247800</td>\n",
       "      <td>-0.024800</td>\n",
       "      <td>-0.359600</td>\n",
       "      <td>-0.461600</td>\n",
       "      <td>-0.526800</td>\n",
       "      <td>-0.577400</td>\n",
       "      <td>-0.601200</td>\n",
       "      <td>...</td>\n",
       "      <td>0.130400</td>\n",
       "      <td>0.098000</td>\n",
       "      <td>0.071400</td>\n",
       "      <td>0.073600</td>\n",
       "      <td>0.088600</td>\n",
       "      <td>0.049200</td>\n",
       "      <td>-0.017800</td>\n",
       "      <td>-0.057600</td>\n",
       "      <td>-0.154600</td>\n",
       "      <td>-0.546600</td>\n",
       "    </tr>\n",
       "    <tr>\n",
       "      <th>50%</th>\n",
       "      <td>-0.414000</td>\n",
       "      <td>0.106400</td>\n",
       "      <td>0.333400</td>\n",
       "      <td>0.453200</td>\n",
       "      <td>0.415800</td>\n",
       "      <td>0.204200</td>\n",
       "      <td>-0.010800</td>\n",
       "      <td>-0.154400</td>\n",
       "      <td>-0.233200</td>\n",
       "      <td>-0.261000</td>\n",
       "      <td>...</td>\n",
       "      <td>0.366200</td>\n",
       "      <td>0.337400</td>\n",
       "      <td>0.294200</td>\n",
       "      <td>0.295000</td>\n",
       "      <td>0.315800</td>\n",
       "      <td>0.280000</td>\n",
       "      <td>0.192400</td>\n",
       "      <td>0.157800</td>\n",
       "      <td>0.045200</td>\n",
       "      <td>-0.329000</td>\n",
       "    </tr>\n",
       "    <tr>\n",
       "      <th>75%</th>\n",
       "      <td>-0.241000</td>\n",
       "      <td>0.354600</td>\n",
       "      <td>0.583400</td>\n",
       "      <td>0.668600</td>\n",
       "      <td>0.692400</td>\n",
       "      <td>0.686200</td>\n",
       "      <td>0.492400</td>\n",
       "      <td>0.304400</td>\n",
       "      <td>0.190200</td>\n",
       "      <td>0.120000</td>\n",
       "      <td>...</td>\n",
       "      <td>0.622600</td>\n",
       "      <td>0.588800</td>\n",
       "      <td>0.548800</td>\n",
       "      <td>0.565800</td>\n",
       "      <td>0.581600</td>\n",
       "      <td>0.541200</td>\n",
       "      <td>0.461600</td>\n",
       "      <td>0.410800</td>\n",
       "      <td>0.289800</td>\n",
       "      <td>-0.065600</td>\n",
       "    </tr>\n",
       "    <tr>\n",
       "      <th>max</th>\n",
       "      <td>1.000000</td>\n",
       "      <td>1.000000</td>\n",
       "      <td>1.000000</td>\n",
       "      <td>1.000000</td>\n",
       "      <td>1.000000</td>\n",
       "      <td>1.000000</td>\n",
       "      <td>1.000000</td>\n",
       "      <td>1.000000</td>\n",
       "      <td>1.000000</td>\n",
       "      <td>1.000000</td>\n",
       "      <td>...</td>\n",
       "      <td>1.000000</td>\n",
       "      <td>1.000000</td>\n",
       "      <td>1.000000</td>\n",
       "      <td>1.000000</td>\n",
       "      <td>1.000000</td>\n",
       "      <td>1.000000</td>\n",
       "      <td>1.000000</td>\n",
       "      <td>1.000000</td>\n",
       "      <td>1.000000</td>\n",
       "      <td>0.889800</td>\n",
       "    </tr>\n",
       "  </tbody>\n",
       "</table>\n",
       "<p>8 rows × 617 columns</p>\n",
       "</div>"
      ],
      "text/plain": [
       "                f1           f2           f3           f4           f5  \\\n",
       "count  7797.000000  7797.000000  7797.000000  7797.000000  7797.000000   \n",
       "mean     -0.385396     0.141103     0.347384     0.450659     0.324283   \n",
       "std       0.236721     0.320090     0.326658     0.308301     0.461491   \n",
       "min      -1.000000    -0.892600    -0.975200    -0.968000    -0.996600   \n",
       "25%      -0.546800    -0.099400     0.105400     0.247800    -0.024800   \n",
       "50%      -0.414000     0.106400     0.333400     0.453200     0.415800   \n",
       "75%      -0.241000     0.354600     0.583400     0.668600     0.692400   \n",
       "max       1.000000     1.000000     1.000000     1.000000     1.000000   \n",
       "\n",
       "                f6           f7           f8           f9          f10  ...  \\\n",
       "count  7797.000000  7797.000000  7797.000000  7797.000000  7797.000000  ...   \n",
       "mean      0.163589     0.023852    -0.081577    -0.149191    -0.191763  ...   \n",
       "std       0.569970     0.559704     0.535142     0.528714     0.515343  ...   \n",
       "min      -1.000000    -1.000000    -1.000000    -1.000000    -1.000000  ...   \n",
       "25%      -0.359600    -0.461600    -0.526800    -0.577400    -0.601200  ...   \n",
       "50%       0.204200    -0.010800    -0.154400    -0.233200    -0.261000  ...   \n",
       "75%       0.686200     0.492400     0.304400     0.190200     0.120000  ...   \n",
       "max       1.000000     1.000000     1.000000     1.000000     1.000000  ...   \n",
       "\n",
       "              f608         f609         f610         f611         f612  \\\n",
       "count  7797.000000  7797.000000  7797.000000  7797.000000  7797.000000   \n",
       "mean      0.370768     0.341730     0.311678     0.318904     0.334451   \n",
       "std       0.335582     0.330835     0.328813     0.333747     0.334954   \n",
       "min      -0.609400    -0.803400    -0.775200    -0.830200    -0.711800   \n",
       "25%       0.130400     0.098000     0.071400     0.073600     0.088600   \n",
       "50%       0.366200     0.337400     0.294200     0.295000     0.315800   \n",
       "75%       0.622600     0.588800     0.548800     0.565800     0.581600   \n",
       "max       1.000000     1.000000     1.000000     1.000000     1.000000   \n",
       "\n",
       "              f613         f614         f615         f616         f617  \n",
       "count  7797.000000  7797.000000  7797.000000  7797.000000  7797.000000  \n",
       "mean      0.299238     0.224122     0.186668     0.081370    -0.281416  \n",
       "std       0.334282     0.336135     0.337780     0.332859     0.354418  \n",
       "min      -0.770800    -0.810600    -0.780200    -0.802800    -0.962600  \n",
       "25%       0.049200    -0.017800    -0.057600    -0.154600    -0.546600  \n",
       "50%       0.280000     0.192400     0.157800     0.045200    -0.329000  \n",
       "75%       0.541200     0.461600     0.410800     0.289800    -0.065600  \n",
       "max       1.000000     1.000000     1.000000     1.000000     0.889800  \n",
       "\n",
       "[8 rows x 617 columns]"
      ]
     },
     "execution_count": 20,
     "metadata": {},
     "output_type": "execute_result"
    }
   ],
   "source": [
    "#getting insight in our data\n",
    "data.describe()"
   ]
  },
  {
   "cell_type": "code",
   "execution_count": 9,
   "id": "8af49b22",
   "metadata": {},
   "outputs": [
    {
     "name": "stdout",
     "output_type": "stream",
     "text": [
      "<class 'pandas.core.frame.DataFrame'>\n",
      "RangeIndex: 7797 entries, 0 to 7796\n",
      "Columns: 618 entries, f1 to class\n",
      "dtypes: float64(613), int64(4), object(1)\n",
      "memory usage: 36.8+ MB\n"
     ]
    }
   ],
   "source": [
    "data.info()"
   ]
  },
  {
   "cell_type": "code",
   "execution_count": 12,
   "id": "95ebe069",
   "metadata": {},
   "outputs": [
    {
     "data": {
      "text/plain": [
       "f1       0\n",
       "f2       0\n",
       "f3       0\n",
       "f4       0\n",
       "f5       0\n",
       "        ..\n",
       "f614     0\n",
       "f615     0\n",
       "f616     0\n",
       "f617     0\n",
       "class    0\n",
       "Length: 618, dtype: int64"
      ]
     },
     "execution_count": 12,
     "metadata": {},
     "output_type": "execute_result"
    }
   ],
   "source": [
    "data.isna().sum()"
   ]
  },
  {
   "cell_type": "markdown",
   "id": "a38bf840",
   "metadata": {},
   "source": [
    "## 2. Using the pop function to separate the data "
   ]
  },
  {
   "cell_type": "code",
   "execution_count": 21,
   "id": "9189ff42",
   "metadata": {},
   "outputs": [
    {
     "data": {
      "text/plain": [
       "Index(['f1', 'f2', 'f3', 'f4', 'f5', 'f6', 'f7', 'f8', 'f9', 'f10',\n",
       "       ...\n",
       "       'f609', 'f610', 'f611', 'f612', 'f613', 'f614', 'f615', 'f616', 'f617',\n",
       "       'class'],\n",
       "      dtype='object', length=618)"
      ]
     },
     "execution_count": 21,
     "metadata": {},
     "output_type": "execute_result"
    }
   ],
   "source": [
    "data.columns"
   ]
  },
  {
   "cell_type": "code",
   "execution_count": 22,
   "id": "fd7a981f",
   "metadata": {},
   "outputs": [],
   "source": [
    "#Spliting the data using drop and pop functions\n",
    "X = data.drop(columns='class')\n",
    "Y = data.pop('class')"
   ]
  },
  {
   "cell_type": "code",
   "execution_count": 23,
   "id": "396c0498",
   "metadata": {},
   "outputs": [
    {
     "data": {
      "text/html": [
       "<div>\n",
       "<style scoped>\n",
       "    .dataframe tbody tr th:only-of-type {\n",
       "        vertical-align: middle;\n",
       "    }\n",
       "\n",
       "    .dataframe tbody tr th {\n",
       "        vertical-align: top;\n",
       "    }\n",
       "\n",
       "    .dataframe thead th {\n",
       "        text-align: right;\n",
       "    }\n",
       "</style>\n",
       "<table border=\"1\" class=\"dataframe\">\n",
       "  <thead>\n",
       "    <tr style=\"text-align: right;\">\n",
       "      <th></th>\n",
       "      <th>f1</th>\n",
       "      <th>f2</th>\n",
       "      <th>f3</th>\n",
       "      <th>f4</th>\n",
       "      <th>f5</th>\n",
       "      <th>f6</th>\n",
       "      <th>f7</th>\n",
       "      <th>f8</th>\n",
       "      <th>f9</th>\n",
       "      <th>f10</th>\n",
       "      <th>...</th>\n",
       "      <th>f608</th>\n",
       "      <th>f609</th>\n",
       "      <th>f610</th>\n",
       "      <th>f611</th>\n",
       "      <th>f612</th>\n",
       "      <th>f613</th>\n",
       "      <th>f614</th>\n",
       "      <th>f615</th>\n",
       "      <th>f616</th>\n",
       "      <th>f617</th>\n",
       "    </tr>\n",
       "  </thead>\n",
       "  <tbody>\n",
       "    <tr>\n",
       "      <th>0</th>\n",
       "      <td>-0.4394</td>\n",
       "      <td>-0.0930</td>\n",
       "      <td>0.1718</td>\n",
       "      <td>0.4620</td>\n",
       "      <td>0.6226</td>\n",
       "      <td>0.4704</td>\n",
       "      <td>0.3578</td>\n",
       "      <td>0.0478</td>\n",
       "      <td>-0.1184</td>\n",
       "      <td>-0.2310</td>\n",
       "      <td>...</td>\n",
       "      <td>0.3334</td>\n",
       "      <td>0.4102</td>\n",
       "      <td>0.2052</td>\n",
       "      <td>0.3846</td>\n",
       "      <td>0.3590</td>\n",
       "      <td>0.5898</td>\n",
       "      <td>0.3334</td>\n",
       "      <td>0.6410</td>\n",
       "      <td>0.5898</td>\n",
       "      <td>-0.4872</td>\n",
       "    </tr>\n",
       "    <tr>\n",
       "      <th>1</th>\n",
       "      <td>-0.4348</td>\n",
       "      <td>-0.1198</td>\n",
       "      <td>0.2474</td>\n",
       "      <td>0.4036</td>\n",
       "      <td>0.5026</td>\n",
       "      <td>0.6328</td>\n",
       "      <td>0.4948</td>\n",
       "      <td>0.0338</td>\n",
       "      <td>-0.0520</td>\n",
       "      <td>-0.1302</td>\n",
       "      <td>...</td>\n",
       "      <td>0.2272</td>\n",
       "      <td>0.0000</td>\n",
       "      <td>0.2954</td>\n",
       "      <td>0.2046</td>\n",
       "      <td>0.4772</td>\n",
       "      <td>0.0454</td>\n",
       "      <td>0.2046</td>\n",
       "      <td>0.4318</td>\n",
       "      <td>0.4546</td>\n",
       "      <td>-0.0910</td>\n",
       "    </tr>\n",
       "    <tr>\n",
       "      <th>2</th>\n",
       "      <td>-0.2330</td>\n",
       "      <td>0.2124</td>\n",
       "      <td>0.5014</td>\n",
       "      <td>0.5222</td>\n",
       "      <td>-0.3422</td>\n",
       "      <td>-0.5840</td>\n",
       "      <td>-0.7168</td>\n",
       "      <td>-0.6342</td>\n",
       "      <td>-0.8614</td>\n",
       "      <td>-0.8318</td>\n",
       "      <td>...</td>\n",
       "      <td>0.0952</td>\n",
       "      <td>-0.1112</td>\n",
       "      <td>-0.0476</td>\n",
       "      <td>-0.1746</td>\n",
       "      <td>0.0318</td>\n",
       "      <td>-0.0476</td>\n",
       "      <td>0.1112</td>\n",
       "      <td>0.2540</td>\n",
       "      <td>0.1588</td>\n",
       "      <td>-0.4762</td>\n",
       "    </tr>\n",
       "    <tr>\n",
       "      <th>3</th>\n",
       "      <td>-0.3808</td>\n",
       "      <td>-0.0096</td>\n",
       "      <td>0.2602</td>\n",
       "      <td>0.2554</td>\n",
       "      <td>-0.4290</td>\n",
       "      <td>-0.6746</td>\n",
       "      <td>-0.6868</td>\n",
       "      <td>-0.6650</td>\n",
       "      <td>-0.8410</td>\n",
       "      <td>-0.9614</td>\n",
       "      <td>...</td>\n",
       "      <td>0.0648</td>\n",
       "      <td>-0.0504</td>\n",
       "      <td>-0.0360</td>\n",
       "      <td>-0.1224</td>\n",
       "      <td>0.1366</td>\n",
       "      <td>0.2950</td>\n",
       "      <td>0.0792</td>\n",
       "      <td>-0.0072</td>\n",
       "      <td>0.0936</td>\n",
       "      <td>-0.1510</td>\n",
       "    </tr>\n",
       "    <tr>\n",
       "      <th>4</th>\n",
       "      <td>-0.3412</td>\n",
       "      <td>0.0946</td>\n",
       "      <td>0.6082</td>\n",
       "      <td>0.6216</td>\n",
       "      <td>-0.1622</td>\n",
       "      <td>-0.3784</td>\n",
       "      <td>-0.4324</td>\n",
       "      <td>-0.4358</td>\n",
       "      <td>-0.4966</td>\n",
       "      <td>-0.5406</td>\n",
       "      <td>...</td>\n",
       "      <td>0.2812</td>\n",
       "      <td>0.1562</td>\n",
       "      <td>0.3124</td>\n",
       "      <td>0.2500</td>\n",
       "      <td>-0.0938</td>\n",
       "      <td>0.1562</td>\n",
       "      <td>0.3124</td>\n",
       "      <td>0.3124</td>\n",
       "      <td>0.2188</td>\n",
       "      <td>-0.2500</td>\n",
       "    </tr>\n",
       "  </tbody>\n",
       "</table>\n",
       "<p>5 rows × 617 columns</p>\n",
       "</div>"
      ],
      "text/plain": [
       "       f1      f2      f3      f4      f5      f6      f7      f8      f9  \\\n",
       "0 -0.4394 -0.0930  0.1718  0.4620  0.6226  0.4704  0.3578  0.0478 -0.1184   \n",
       "1 -0.4348 -0.1198  0.2474  0.4036  0.5026  0.6328  0.4948  0.0338 -0.0520   \n",
       "2 -0.2330  0.2124  0.5014  0.5222 -0.3422 -0.5840 -0.7168 -0.6342 -0.8614   \n",
       "3 -0.3808 -0.0096  0.2602  0.2554 -0.4290 -0.6746 -0.6868 -0.6650 -0.8410   \n",
       "4 -0.3412  0.0946  0.6082  0.6216 -0.1622 -0.3784 -0.4324 -0.4358 -0.4966   \n",
       "\n",
       "      f10  ...    f608    f609    f610    f611    f612    f613    f614  \\\n",
       "0 -0.2310  ...  0.3334  0.4102  0.2052  0.3846  0.3590  0.5898  0.3334   \n",
       "1 -0.1302  ...  0.2272  0.0000  0.2954  0.2046  0.4772  0.0454  0.2046   \n",
       "2 -0.8318  ...  0.0952 -0.1112 -0.0476 -0.1746  0.0318 -0.0476  0.1112   \n",
       "3 -0.9614  ...  0.0648 -0.0504 -0.0360 -0.1224  0.1366  0.2950  0.0792   \n",
       "4 -0.5406  ...  0.2812  0.1562  0.3124  0.2500 -0.0938  0.1562  0.3124   \n",
       "\n",
       "     f615    f616    f617  \n",
       "0  0.6410  0.5898 -0.4872  \n",
       "1  0.4318  0.4546 -0.0910  \n",
       "2  0.2540  0.1588 -0.4762  \n",
       "3 -0.0072  0.0936 -0.1510  \n",
       "4  0.3124  0.2188 -0.2500  \n",
       "\n",
       "[5 rows x 617 columns]"
      ]
     },
     "execution_count": 23,
     "metadata": {},
     "output_type": "execute_result"
    }
   ],
   "source": [
    "X.head()"
   ]
  },
  {
   "cell_type": "code",
   "execution_count": 24,
   "id": "77bec5f7",
   "metadata": {},
   "outputs": [
    {
     "data": {
      "text/plain": [
       "0        '1'\n",
       "1        '1'\n",
       "2        '2'\n",
       "3        '2'\n",
       "4        '3'\n",
       "        ... \n",
       "7792    '24'\n",
       "7793    '25'\n",
       "7794    '25'\n",
       "7795    '26'\n",
       "7796    '26'\n",
       "Name: class, Length: 7797, dtype: object"
      ]
     },
     "execution_count": 24,
     "metadata": {},
     "output_type": "execute_result"
    }
   ],
   "source": [
    "Y"
   ]
  },
  {
   "cell_type": "markdown",
   "id": "d463575b",
   "metadata": {},
   "source": [
    "## 3. Spliting the data into train and test"
   ]
  },
  {
   "cell_type": "code",
   "execution_count": 25,
   "id": "20c6d70a",
   "metadata": {},
   "outputs": [],
   "source": [
    "from sklearn.model_selection import train_test_split"
   ]
  },
  {
   "cell_type": "code",
   "execution_count": 33,
   "id": "fbd45b0f",
   "metadata": {},
   "outputs": [],
   "source": [
    "#Spliting the data into train and test data\n",
    "X_train,X_test,Y_train,Y_test = train_test_split(X,Y,test_size=0.3,random_state=123,stratify=Y)"
   ]
  },
  {
   "cell_type": "code",
   "execution_count": 31,
   "id": "d0ae54d9",
   "metadata": {},
   "outputs": [
    {
     "name": "stdout",
     "output_type": "stream",
     "text": [
      "<class 'pandas.core.frame.DataFrame'>\n",
      "Int64Index: 5457 entries, 5222 to 5351\n",
      "Columns: 617 entries, f1 to f617\n",
      "dtypes: float64(613), int64(4)\n",
      "memory usage: 25.7 MB\n"
     ]
    }
   ],
   "source": [
    "X_train.info()"
   ]
  },
  {
   "cell_type": "code",
   "execution_count": 32,
   "id": "a8e06039",
   "metadata": {},
   "outputs": [
    {
     "name": "stdout",
     "output_type": "stream",
     "text": [
      "<class 'pandas.core.frame.DataFrame'>\n",
      "Int64Index: 2340 entries, 1785 to 7511\n",
      "Columns: 617 entries, f1 to f617\n",
      "dtypes: float64(613), int64(4)\n",
      "memory usage: 11.0 MB\n"
     ]
    }
   ],
   "source": [
    "X_test.info()"
   ]
  },
  {
   "cell_type": "markdown",
   "id": "6266ba46",
   "metadata": {},
   "source": [
    "## 4. Training the model with RandomForestClassifier"
   ]
  },
  {
   "cell_type": "code",
   "execution_count": 34,
   "id": "d199b987",
   "metadata": {},
   "outputs": [],
   "source": [
    "#importing the RandomForestClassifier algorithm\n",
    "from sklearn.ensemble import RandomForestClassifier"
   ]
  },
  {
   "cell_type": "code",
   "execution_count": 35,
   "id": "78665328",
   "metadata": {},
   "outputs": [],
   "source": [
    "model = RandomForestClassifier()"
   ]
  },
  {
   "cell_type": "code",
   "execution_count": 36,
   "id": "92d6e2d7",
   "metadata": {},
   "outputs": [
    {
     "data": {
      "text/plain": [
       "RandomForestClassifier()"
      ]
     },
     "execution_count": 36,
     "metadata": {},
     "output_type": "execute_result"
    }
   ],
   "source": [
    "#Training our model\n",
    "model.fit(X_train,Y_train)"
   ]
  },
  {
   "cell_type": "code",
   "execution_count": 39,
   "id": "d5b41d69",
   "metadata": {},
   "outputs": [
    {
     "data": {
      "text/plain": [
       "1.0"
      ]
     },
     "execution_count": 39,
     "metadata": {},
     "output_type": "execute_result"
    }
   ],
   "source": [
    "#Testing our model with the train data\n",
    "score = model.score(X_train,Y_train)\n",
    "score"
   ]
  },
  {
   "cell_type": "code",
   "execution_count": 40,
   "id": "caf4dbed",
   "metadata": {},
   "outputs": [
    {
     "data": {
      "text/plain": [
       "0.9358974358974359"
      ]
     },
     "execution_count": 40,
     "metadata": {},
     "output_type": "execute_result"
    }
   ],
   "source": [
    "#Testing our model with data it hasnt seen before\n",
    "score1 = model.score(X_test,Y_test)\n",
    "score1"
   ]
  },
  {
   "cell_type": "markdown",
   "id": "7cd7635b",
   "metadata": {},
   "source": [
    "## 5. Using our trained model to predict"
   ]
  },
  {
   "cell_type": "code",
   "execution_count": 47,
   "id": "a71bf7e4",
   "metadata": {},
   "outputs": [
    {
     "data": {
      "text/plain": [
       "array([\"'23'\", \"'1'\", \"'5'\", ..., \"'4'\", \"'25'\", \"'23'\"], dtype=object)"
      ]
     },
     "execution_count": 47,
     "metadata": {},
     "output_type": "execute_result"
    }
   ],
   "source": [
    "#Predicting using the train data\n",
    "pred1 = model.predict(X_train)\n",
    "pred1"
   ]
  },
  {
   "cell_type": "code",
   "execution_count": 48,
   "id": "d7317202",
   "metadata": {},
   "outputs": [
    {
     "data": {
      "text/plain": [
       "array([\"'9'\", \"'22'\", \"'13'\", ..., \"'21'\", \"'7'\", \"'14'\"], dtype=object)"
      ]
     },
     "execution_count": 48,
     "metadata": {},
     "output_type": "execute_result"
    }
   ],
   "source": [
    "#predicing using the test data\n",
    "pred2 = model.predict(X_test)\n",
    "pred2"
   ]
  },
  {
   "cell_type": "markdown",
   "id": "f9295212",
   "metadata": {},
   "source": [
    "## 6. Checking the accuracy of our trained model"
   ]
  },
  {
   "cell_type": "code",
   "execution_count": 43,
   "id": "519419b4",
   "metadata": {},
   "outputs": [],
   "source": [
    "#Importing the accuracy score function to check the accuracy of our trained model\n",
    "from sklearn.metrics import accuracy_score"
   ]
  },
  {
   "cell_type": "code",
   "execution_count": 50,
   "id": "3fd2c7a4",
   "metadata": {},
   "outputs": [
    {
     "data": {
      "text/plain": [
       "1.0"
      ]
     },
     "execution_count": 50,
     "metadata": {},
     "output_type": "execute_result"
    }
   ],
   "source": [
    "#Checking the accuracy of model on the train data\n",
    "accuracy1 = accuracy_score(Y_train,pred1)\n",
    "accuracy1"
   ]
  },
  {
   "cell_type": "code",
   "execution_count": 52,
   "id": "56c62e47",
   "metadata": {},
   "outputs": [
    {
     "data": {
      "text/plain": [
       "0.9358974358974359"
      ]
     },
     "execution_count": 52,
     "metadata": {},
     "output_type": "execute_result"
    }
   ],
   "source": [
    "#Checking the accuracy of our model on the test data\n",
    "accuracy2 = accuracy_score(Y_test,pred2)\n",
    "accuracy2"
   ]
  },
  {
   "cell_type": "markdown",
   "id": "654ef5e3",
   "metadata": {},
   "source": [
    "## 7. Hyperparameter tuning"
   ]
  },
  {
   "cell_type": "code",
   "execution_count": 55,
   "id": "ad301751",
   "metadata": {},
   "outputs": [],
   "source": [
    "#Using n_estimators = 20,random_state = 123 and verbose =2\n",
    "model1 = RandomForestClassifier(n_estimators=20,random_state=123,verbose=2)"
   ]
  },
  {
   "cell_type": "code",
   "execution_count": 56,
   "id": "231f94a1",
   "metadata": {},
   "outputs": [
    {
     "name": "stderr",
     "output_type": "stream",
     "text": [
      "[Parallel(n_jobs=1)]: Using backend SequentialBackend with 1 concurrent workers.\n",
      "[Parallel(n_jobs=1)]: Done   1 out of   1 | elapsed:    0.0s remaining:    0.0s\n"
     ]
    },
    {
     "name": "stdout",
     "output_type": "stream",
     "text": [
      "building tree 1 of 20\n",
      "building tree 2 of 20\n",
      "building tree 3 of 20\n",
      "building tree 4 of 20\n",
      "building tree 5 of 20\n",
      "building tree 6 of 20\n",
      "building tree 7 of 20\n",
      "building tree 8 of 20\n",
      "building tree 9 of 20\n",
      "building tree 10 of 20\n",
      "building tree 11 of 20\n",
      "building tree 12 of 20\n",
      "building tree 13 of 20\n",
      "building tree 14 of 20\n",
      "building tree 15 of 20\n",
      "building tree 16 of 20\n",
      "building tree 17 of 20\n",
      "building tree 18 of 20\n",
      "building tree 19 of 20\n",
      "building tree 20 of 20\n"
     ]
    },
    {
     "name": "stderr",
     "output_type": "stream",
     "text": [
      "[Parallel(n_jobs=1)]: Done  20 out of  20 | elapsed:    1.8s finished\n"
     ]
    },
    {
     "data": {
      "text/plain": [
       "RandomForestClassifier(n_estimators=20, random_state=123, verbose=2)"
      ]
     },
     "execution_count": 56,
     "metadata": {},
     "output_type": "execute_result"
    }
   ],
   "source": [
    "model1.fit(X_train,Y_train)"
   ]
  },
  {
   "cell_type": "code",
   "execution_count": 96,
   "id": "1857c9ea",
   "metadata": {},
   "outputs": [
    {
     "name": "stderr",
     "output_type": "stream",
     "text": [
      "[Parallel(n_jobs=1)]: Using backend SequentialBackend with 1 concurrent workers.\n",
      "[Parallel(n_jobs=1)]: Done   1 out of   1 | elapsed:    0.0s remaining:    0.0s\n",
      "[Parallel(n_jobs=1)]: Done  20 out of  20 | elapsed:    0.0s finished\n"
     ]
    },
    {
     "data": {
      "text/plain": [
       "0.9213675213675213"
      ]
     },
     "execution_count": 96,
     "metadata": {},
     "output_type": "execute_result"
    }
   ],
   "source": [
    "model1.score(X_test,Y_test)"
   ]
  },
  {
   "cell_type": "code",
   "execution_count": 67,
   "id": "4cc1781e",
   "metadata": {},
   "outputs": [],
   "source": [
    "#Using n_estimators=20,max_depth=5,min_samples_leaf=10,max_features=0.5,random_state=123\n",
    "model2 = RandomForestClassifier(n_estimators=20,max_depth=5,min_samples_leaf=10,max_features=0.5,random_state=123)"
   ]
  },
  {
   "cell_type": "code",
   "execution_count": 68,
   "id": "f2de7062",
   "metadata": {},
   "outputs": [
    {
     "data": {
      "text/plain": [
       "RandomForestClassifier(max_depth=5, max_features=0.5, min_samples_leaf=10,\n",
       "                       n_estimators=20, random_state=123)"
      ]
     },
     "execution_count": 68,
     "metadata": {},
     "output_type": "execute_result"
    }
   ],
   "source": [
    "model2.fit(X_train,Y_train)"
   ]
  },
  {
   "cell_type": "code",
   "execution_count": 69,
   "id": "50094315",
   "metadata": {
    "scrolled": true
   },
   "outputs": [
    {
     "data": {
      "text/plain": [
       "0.7495726495726496"
      ]
     },
     "execution_count": 69,
     "metadata": {},
     "output_type": "execute_result"
    }
   ],
   "source": [
    "model2.score(X_test,Y_test)"
   ]
  },
  {
   "cell_type": "code",
   "execution_count": 86,
   "id": "1de53db6",
   "metadata": {},
   "outputs": [
    {
     "data": {
      "text/plain": [
       "array([\"'9'\", \"'4'\", \"'12'\", ..., \"'21'\", \"'7'\", \"'14'\"], dtype=object)"
      ]
     },
     "execution_count": 86,
     "metadata": {},
     "output_type": "execute_result"
    }
   ],
   "source": [
    "predict2 = model2.predict(X_test)\n",
    "predict2"
   ]
  },
  {
   "cell_type": "code",
   "execution_count": 87,
   "id": "8af057d2",
   "metadata": {},
   "outputs": [
    {
     "data": {
      "text/plain": [
       "0.7495726495726496"
      ]
     },
     "execution_count": 87,
     "metadata": {},
     "output_type": "execute_result"
    }
   ],
   "source": [
    "accuracy_score2 = accuracy_score(Y_test,predict2)\n",
    "accuracy_score2"
   ]
  },
  {
   "cell_type": "code",
   "execution_count": 70,
   "id": "75f7275f",
   "metadata": {},
   "outputs": [],
   "source": [
    "#Using n_estimators=20,max_depth=10,min_samples_leaf=50,max_features=0.3,random_state=123\n",
    "model3 = RandomForestClassifier(n_estimators=20,max_depth=10,min_samples_leaf=50,max_features=0.3,random_state=123)"
   ]
  },
  {
   "cell_type": "code",
   "execution_count": 71,
   "id": "aec15a19",
   "metadata": {},
   "outputs": [
    {
     "data": {
      "text/plain": [
       "RandomForestClassifier(max_depth=10, max_features=0.3, min_samples_leaf=50,\n",
       "                       n_estimators=20, random_state=123)"
      ]
     },
     "execution_count": 71,
     "metadata": {},
     "output_type": "execute_result"
    }
   ],
   "source": [
    "model3.fit(X_train,Y_train)"
   ]
  },
  {
   "cell_type": "code",
   "execution_count": 72,
   "id": "2fc47c72",
   "metadata": {},
   "outputs": [
    {
     "data": {
      "text/plain": [
       "0.8670940170940171"
      ]
     },
     "execution_count": 72,
     "metadata": {},
     "output_type": "execute_result"
    }
   ],
   "source": [
    "model3.score(X_test,Y_test)"
   ]
  },
  {
   "cell_type": "code",
   "execution_count": 88,
   "id": "1902f2a0",
   "metadata": {},
   "outputs": [
    {
     "data": {
      "text/plain": [
       "array([\"'9'\", \"'22'\", \"'13'\", ..., \"'21'\", \"'7'\", \"'14'\"], dtype=object)"
      ]
     },
     "execution_count": 88,
     "metadata": {},
     "output_type": "execute_result"
    }
   ],
   "source": [
    "predict3 = model3.predict(X_test)\n",
    "predict3"
   ]
  },
  {
   "cell_type": "code",
   "execution_count": 89,
   "id": "88190017",
   "metadata": {},
   "outputs": [
    {
     "data": {
      "text/plain": [
       "0.8670940170940171"
      ]
     },
     "execution_count": 89,
     "metadata": {},
     "output_type": "execute_result"
    }
   ],
   "source": [
    "accuracy_score3 = accuracy_score(Y_test,predict3)\n",
    "accuracy_score3"
   ]
  },
  {
   "cell_type": "code",
   "execution_count": 73,
   "id": "9da2c0e8",
   "metadata": {},
   "outputs": [],
   "source": [
    "#Using n_estimators=50,max_depth=10,min_samples_leaf=50,max_features=0.5,random_state=123\n",
    "model4 = RandomForestClassifier(n_estimators=50,max_depth=10,min_samples_leaf=50,max_features=0.5,random_state=123)"
   ]
  },
  {
   "cell_type": "code",
   "execution_count": 74,
   "id": "bdd8c3a1",
   "metadata": {},
   "outputs": [
    {
     "data": {
      "text/plain": [
       "RandomForestClassifier(max_depth=10, max_features=0.5, min_samples_leaf=50,\n",
       "                       n_estimators=50, random_state=123)"
      ]
     },
     "execution_count": 74,
     "metadata": {},
     "output_type": "execute_result"
    }
   ],
   "source": [
    "model4.fit(X_train,Y_train)"
   ]
  },
  {
   "cell_type": "code",
   "execution_count": 75,
   "id": "eb1958b0",
   "metadata": {},
   "outputs": [
    {
     "data": {
      "text/plain": [
       "0.8658119658119658"
      ]
     },
     "execution_count": 75,
     "metadata": {},
     "output_type": "execute_result"
    }
   ],
   "source": [
    "model4.score(X_test,Y_test)"
   ]
  },
  {
   "cell_type": "code",
   "execution_count": 90,
   "id": "76e47207",
   "metadata": {},
   "outputs": [
    {
     "data": {
      "text/plain": [
       "array([\"'9'\", \"'22'\", \"'13'\", ..., \"'21'\", \"'7'\", \"'14'\"], dtype=object)"
      ]
     },
     "execution_count": 90,
     "metadata": {},
     "output_type": "execute_result"
    }
   ],
   "source": [
    "predict4 = model4.predict(X_test)\n",
    "predict4"
   ]
  },
  {
   "cell_type": "code",
   "execution_count": 91,
   "id": "b7922ed0",
   "metadata": {},
   "outputs": [
    {
     "data": {
      "text/plain": [
       "0.8658119658119658"
      ]
     },
     "execution_count": 91,
     "metadata": {},
     "output_type": "execute_result"
    }
   ],
   "source": [
    "accuracy_score4 = accuracy_score(Y_test,predict4)\n",
    "accuracy_score4"
   ]
  },
  {
   "cell_type": "code",
   "execution_count": 78,
   "id": "ff2e55f1",
   "metadata": {},
   "outputs": [],
   "source": [
    "# Using n_estimators=150,max_depth=20,min_samples_leaf=100,max_features=1,random_state=123\n",
    "model5 = RandomForestClassifier(n_estimators=150,max_depth=20,min_samples_leaf=100,max_features=1,random_state=123)"
   ]
  },
  {
   "cell_type": "code",
   "execution_count": 80,
   "id": "20db6ac9",
   "metadata": {},
   "outputs": [
    {
     "data": {
      "text/plain": [
       "RandomForestClassifier(max_depth=20, max_features=1, min_samples_leaf=100,\n",
       "                       n_estimators=150, random_state=123)"
      ]
     },
     "execution_count": 80,
     "metadata": {},
     "output_type": "execute_result"
    }
   ],
   "source": [
    "model5.fit(X_train,Y_train)"
   ]
  },
  {
   "cell_type": "code",
   "execution_count": 81,
   "id": "a61df173",
   "metadata": {},
   "outputs": [
    {
     "data": {
      "text/plain": [
       "0.8444444444444444"
      ]
     },
     "execution_count": 81,
     "metadata": {},
     "output_type": "execute_result"
    }
   ],
   "source": [
    "model5.score(X_test,Y_test)"
   ]
  },
  {
   "cell_type": "code",
   "execution_count": 92,
   "id": "34cc134a",
   "metadata": {},
   "outputs": [
    {
     "data": {
      "text/plain": [
       "array([\"'9'\", \"'22'\", \"'12'\", ..., \"'17'\", \"'7'\", \"'14'\"], dtype=object)"
      ]
     },
     "execution_count": 92,
     "metadata": {},
     "output_type": "execute_result"
    }
   ],
   "source": [
    "predict5 = model5.predict(X_test)\n",
    "predict5"
   ]
  },
  {
   "cell_type": "code",
   "execution_count": 93,
   "id": "3b4564d4",
   "metadata": {},
   "outputs": [
    {
     "data": {
      "text/plain": [
       "0.8444444444444444"
      ]
     },
     "execution_count": 93,
     "metadata": {},
     "output_type": "execute_result"
    }
   ],
   "source": [
    "accuracy_score5 = accuracy_score(Y_test,predict5)\n",
    "accuracy_score5"
   ]
  },
  {
   "cell_type": "code",
   "execution_count": 82,
   "id": "76d74c2b",
   "metadata": {},
   "outputs": [],
   "source": [
    "#Using the default configuration\n",
    "model6 = RandomForestClassifier()"
   ]
  },
  {
   "cell_type": "code",
   "execution_count": 83,
   "id": "da422dc6",
   "metadata": {},
   "outputs": [
    {
     "data": {
      "text/plain": [
       "RandomForestClassifier()"
      ]
     },
     "execution_count": 83,
     "metadata": {},
     "output_type": "execute_result"
    }
   ],
   "source": [
    "model6.fit(X_train,Y_train)"
   ]
  },
  {
   "cell_type": "code",
   "execution_count": 84,
   "id": "3d508224",
   "metadata": {},
   "outputs": [
    {
     "data": {
      "text/plain": [
       "0.9376068376068376"
      ]
     },
     "execution_count": 84,
     "metadata": {},
     "output_type": "execute_result"
    }
   ],
   "source": [
    "model6.score(X_test,Y_test)"
   ]
  },
  {
   "cell_type": "code",
   "execution_count": 94,
   "id": "b5ad6996",
   "metadata": {},
   "outputs": [
    {
     "data": {
      "text/plain": [
       "array([\"'9'\", \"'22'\", \"'13'\", ..., \"'21'\", \"'7'\", \"'14'\"], dtype=object)"
      ]
     },
     "execution_count": 94,
     "metadata": {},
     "output_type": "execute_result"
    }
   ],
   "source": [
    "predict6 = model6.predict(X_test)\n",
    "predict6"
   ]
  },
  {
   "cell_type": "code",
   "execution_count": 95,
   "id": "11df85d3",
   "metadata": {},
   "outputs": [
    {
     "data": {
      "text/plain": [
       "0.9376068376068376"
      ]
     },
     "execution_count": 95,
     "metadata": {},
     "output_type": "execute_result"
    }
   ],
   "source": [
    "accuracy_score6 = accuracy_score(Y_test,predict6)\n",
    "accuracy_score6"
   ]
  },
  {
   "cell_type": "markdown",
   "id": "df867bc8",
   "metadata": {},
   "source": [
    "## 8.Selecting the best hyperparameter value"
   ]
  },
  {
   "cell_type": "markdown",
   "id": "6783e986",
   "metadata": {},
   "source": [
    "1. First model(model1) I created with hyperparamters of n_estimators = 20,random_state = 123 and verbose = 2 gave an accuracy_score of 92.14%"
   ]
  },
  {
   "cell_type": "markdown",
   "id": "5c9afa77",
   "metadata": {},
   "source": [
    "2. Second model(model2) I created with hyperparameters of n_estimators=20,max_depth=5,min_samples_leaf=10,max_features=0.5,random_state=123 gave an accuracy_score of 74.96%"
   ]
  },
  {
   "cell_type": "markdown",
   "id": "581fe4e4",
   "metadata": {},
   "source": [
    "3. Third model(model3) I created with hyperparameters of n_estimators=20,max_depth=10,min_samples_leaf=50,max_features=0.3,random_state=123 gave an accuracy_score of 86.71%"
   ]
  },
  {
   "cell_type": "markdown",
   "id": "de3cf27d",
   "metadata": {},
   "source": [
    "4. Fourth model(model4) I created with hyperparameters of n_estimators=50,max_depth=10,min_samples_leaf=50,max_features=0.5,random_state=123 gave an accuracy_score of 86.58%"
   ]
  },
  {
   "cell_type": "markdown",
   "id": "9812f3b7",
   "metadata": {},
   "source": [
    "5. Fifth model(model5) I created with hyperparameters of n_estimators=150,max_depth=20,min_samples_leaf=100,max_features=1,random_state=123 gave an accuracy_score of 84.44%"
   ]
  },
  {
   "cell_type": "markdown",
   "id": "c8bc4ceb",
   "metadata": {},
   "source": [
    "6. Sixth model(model6) I created with default parameters in the RandomForestClassifier hyperparameters with default values of  n_estimators=100,\n",
    "    criterion='gini',\n",
    "    max_depth=None,\n",
    "    min_samples_split=2,\n",
    "    min_samples_leaf=1,\n",
    "    min_weight_fraction_leaf=0.0,\n",
    "    max_features='auto',\n",
    "    max_leaf_nodes=None,\n",
    "    min_impurity_decrease=0.0 \n",
    "    and I got an accuracy_score of 93.76%"
   ]
  },
  {
   "cell_type": "markdown",
   "id": "fbe5e08f",
   "metadata": {},
   "source": [
    "The best model was the sixth model(model6) I created with the default hyperparameters which has an accuracy_score of 93.76% followed by First model(model1) I created with hyperparameters of n_estimators = 20,random_state = 123 and verbose = 2 with an accuracy_score of 92.14% and Second model(model2) I created with hyperparameters of n_estimators=20,max_depth=5,min_samples_leaf=10,max_features=0.5,random_state=123 gave the least accuracy_score of 74.96%"
   ]
  },
  {
   "cell_type": "markdown",
   "id": "0db9b717",
   "metadata": {},
   "source": [
    "## 9. EDA Data and Model Analysis"
   ]
  },
  {
   "cell_type": "markdown",
   "id": "087ddd37",
   "metadata": {},
   "source": [
    "The EDA data I imported was already cleaned (no missing values) and it has already be rescaled(all the features have a minimum and maximum value of 0 and 1 respectively). So the data is cleaned, rescaled and is near normal distribution"
   ]
  },
  {
   "cell_type": "markdown",
   "id": "69941d7d",
   "metadata": {},
   "source": [
    "The model was initially tested with the data it was trained with and we got an accuracy_score of 100% and when tested with data it has not seen before, the accuracy_score dropped to 93% which shows our model was initially overfitting.\n",
    "\n",
    "\n",
    "The hyperparameter tuning has alot of significant in our model's performance. With the right hyperparamters, we can get the best performance from our model \n"
   ]
  }
 ],
 "metadata": {
  "kernelspec": {
   "display_name": "Python 3 (ipykernel)",
   "language": "python",
   "name": "python3"
  },
  "language_info": {
   "codemirror_mode": {
    "name": "ipython",
    "version": 3
   },
   "file_extension": ".py",
   "mimetype": "text/x-python",
   "name": "python",
   "nbconvert_exporter": "python",
   "pygments_lexer": "ipython3",
   "version": "3.9.12"
  }
 },
 "nbformat": 4,
 "nbformat_minor": 5
}
